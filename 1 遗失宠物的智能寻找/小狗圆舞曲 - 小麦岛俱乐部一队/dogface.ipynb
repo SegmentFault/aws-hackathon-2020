{
 "cells": [
  {
   "cell_type": "code",
   "execution_count": 59,
   "metadata": {},
   "outputs": [
    {
     "name": "stdout",
     "output_type": "stream",
     "text": [
      "正在处理: train_images/dog10.jpg\n",
      "正在处理: train_images/dog5.jpg\n",
      "正在处理: train_images/dog4.jpg\n",
      "正在处理: train_images/dog6.jpg\n",
      "正在处理: train_images/dog7.jpg\n",
      "正在处理: train_images/dog3.jpg\n",
      "正在处理: train_images/dog2.jpg\n",
      "正在处理: train_images/dog1.jpg\n",
      "正在处理: train_images/dog9.jpg\n",
      "正在处理: train_images/dog8.jpg\n",
      "识别训练完毕！\n"
     ]
    }
   ],
   "source": [
    "# -*- coding: utf-8 -*-\n",
    "\n",
    "import os,dlib,glob,numpy\n",
    "from skimage import io\n",
    "\n",
    "predictor_path = \"shape_predictor.dat\"\n",
    "face_rec_model_path = \"dlib_face_recognition.dat\"\n",
    "faces_folder_path ='train_images' \n",
    "\n",
    "detector = dlib.get_frontal_face_detector()\n",
    "sp = dlib.shape_predictor(predictor_path)\n",
    "facerec = dlib.face_recognition_model_v1(face_rec_model_path)\n",
    "\n",
    "candidate = []\n",
    "descriptors = []\n",
    "\n",
    "for f in glob.glob(os.path.join(faces_folder_path,\"*.jpg\")):\n",
    "    print(\"正在处理: {}\".format(f))\n",
    "    img = io.imread(f)\n",
    "    candidate.append(f.split('\\\\')[-1].split('.')[0])\n",
    "    dets = detector(img, 1)\n",
    "    for k, d in enumerate(dets): \n",
    "        shape = sp(img, d)\n",
    "        face_descriptor = facerec.compute_face_descriptor(img, shape)\n",
    "        v = numpy.array(face_descriptor) \n",
    "        descriptors.append(v)\n",
    "\n",
    "print('识别训练完毕！')\n",
    "readpath=r\"./test_images/test10.jpg\"\n",
    "try:\n",
    "    img = io.imread(readpath)\n",
    "    dets = detector(img, 1)\n",
    "except:\n",
    "    print('输入路径有误，请检查！')"
   ]
  },
  {
   "cell_type": "code",
   "execution_count": 60,
   "metadata": {},
   "outputs": [],
   "source": [
    "dist = []\n",
    "for k, d in enumerate(dets):\n",
    "    shape = sp(img, d)\n",
    "    face_descriptor = facerec.compute_face_descriptor(img, shape)\n",
    "    d_test = numpy.array(face_descriptor) \n",
    "    for i in descriptors:\n",
    "        dist_ = numpy.linalg.norm(i-d_test)\n",
    "        dist.append(dist_)"
   ]
  },
  {
   "cell_type": "code",
   "execution_count": 61,
   "metadata": {},
   "outputs": [],
   "source": [
    "c_d = dict(zip(candidate,dist))  \n",
    "cd_sorted = sorted(c_d.items(), key=lambda d:d[1])"
   ]
  },
  {
   "cell_type": "code",
   "execution_count": 62,
   "metadata": {},
   "outputs": [
    {
     "name": "stdout",
     "output_type": "stream",
     "text": [
      "./test_images/test10.jpg 识别到最有可能是:  train_images/dog10\n",
      "{'train_images/dog10': 0.714463098821605}\n"
     ]
    }
   ],
   "source": [
    "print (readpath,\"识别到最有可能是: \",cd_sorted[0][0])\n",
    "print(c_d)"
   ]
  },
  {
   "cell_type": "code",
   "execution_count": 3,
   "metadata": {},
   "outputs": [
    {
     "name": "stdout",
     "output_type": "stream",
     "text": [
      "Looking in indexes: http://mirrors.aliyun.com/pypi/simple/\n",
      "Collecting scikit-image\n",
      "  Downloading http://mirrors.aliyun.com/pypi/packages/9f/21/62a5e3b6b5a84d182c181d9787f9b0210d44ff2e2d6305a08a6664253266/scikit_image-0.17.2-cp37-cp37m-macosx_10_13_x86_64.whl (12.1 MB)\n",
      "\u001b[K     |████████████████████████████████| 12.1 MB 394 kB/s eta 0:00:01\n",
      "\u001b[?25hRequirement already satisfied: scipy>=1.0.1 in /Users/linzihao/opt/anaconda3/lib/python3.7/site-packages (from scikit-image) (1.4.1)\n",
      "Collecting PyWavelets>=1.1.1\n",
      "  Downloading http://mirrors.aliyun.com/pypi/packages/61/e7/b35d14bf5416e771764dd6e35b522cb2c02de02cdac493e509751b0be18f/PyWavelets-1.1.1-cp37-cp37m-macosx_10_9_x86_64.whl (4.3 MB)\n",
      "\u001b[K     |████████████████████████████████| 4.3 MB 131 kB/s eta 0:00:01\n",
      "\u001b[?25hRequirement already satisfied: pillow!=7.1.0,!=7.1.1,>=4.3.0 in /Users/linzihao/opt/anaconda3/lib/python3.7/site-packages (from scikit-image) (7.1.2)\n",
      "Requirement already satisfied: matplotlib!=3.0.0,>=2.0.0 in /Users/linzihao/opt/anaconda3/lib/python3.7/site-packages (from scikit-image) (3.2.1)\n",
      "Collecting tifffile>=2019.7.26\n",
      "  Downloading http://mirrors.aliyun.com/pypi/packages/42/6b/93a8ee61c6fbe20fa9c17928bd3b80484902b7fd454cecaffba42f5052cb/tifffile-2020.9.3-py3-none-any.whl (148 kB)\n",
      "\u001b[K     |████████████████████████████████| 148 kB 1.0 MB/s eta 0:00:01\n",
      "\u001b[?25hCollecting imageio>=2.3.0\n",
      "  Downloading http://mirrors.aliyun.com/pypi/packages/6e/57/5d899fae74c1752f52869b613a8210a2480e1a69688e65df6cb26117d45d/imageio-2.9.0-py3-none-any.whl (3.3 MB)\n",
      "\u001b[K     |████████████████████████████████| 3.3 MB 233 kB/s eta 0:00:01\n",
      "\u001b[?25hRequirement already satisfied: numpy>=1.15.1 in /Users/linzihao/opt/anaconda3/lib/python3.7/site-packages (from scikit-image) (1.18.4)\n",
      "Requirement already satisfied: networkx>=2.0 in /Users/linzihao/opt/anaconda3/lib/python3.7/site-packages (from scikit-image) (2.4)\n",
      "Requirement already satisfied: pyparsing!=2.0.4,!=2.1.2,!=2.1.6,>=2.0.1 in /Users/linzihao/opt/anaconda3/lib/python3.7/site-packages (from matplotlib!=3.0.0,>=2.0.0->scikit-image) (2.4.7)\n",
      "Requirement already satisfied: python-dateutil>=2.1 in /Users/linzihao/opt/anaconda3/lib/python3.7/site-packages (from matplotlib!=3.0.0,>=2.0.0->scikit-image) (2.8.1)\n",
      "Requirement already satisfied: cycler>=0.10 in /Users/linzihao/opt/anaconda3/lib/python3.7/site-packages (from matplotlib!=3.0.0,>=2.0.0->scikit-image) (0.10.0)\n",
      "Requirement already satisfied: kiwisolver>=1.0.1 in /Users/linzihao/opt/anaconda3/lib/python3.7/site-packages (from matplotlib!=3.0.0,>=2.0.0->scikit-image) (1.2.0)\n",
      "Requirement already satisfied: decorator>=4.3.0 in /Users/linzihao/opt/anaconda3/lib/python3.7/site-packages (from networkx>=2.0->scikit-image) (4.4.2)\n",
      "Requirement already satisfied: six>=1.5 in /Users/linzihao/opt/anaconda3/lib/python3.7/site-packages (from python-dateutil>=2.1->matplotlib!=3.0.0,>=2.0.0->scikit-image) (1.14.0)\n",
      "Installing collected packages: PyWavelets, tifffile, imageio, scikit-image\n",
      "Successfully installed PyWavelets-1.1.1 imageio-2.9.0 scikit-image-0.17.2 tifffile-2020.9.3\n",
      "Note: you may need to restart the kernel to use updated packages.\n"
     ]
    }
   ],
   "source": [
    "%pip install scikit-image dlib"
   ]
  },
  {
   "cell_type": "code",
   "execution_count": null,
   "metadata": {},
   "outputs": [],
   "source": []
  }
 ],
 "metadata": {
  "kernelspec": {
   "display_name": "Python 3",
   "language": "python",
   "name": "python3"
  },
  "language_info": {
   "codemirror_mode": {
    "name": "ipython",
    "version": 3
   },
   "file_extension": ".py",
   "mimetype": "text/x-python",
   "name": "python",
   "nbconvert_exporter": "python",
   "pygments_lexer": "ipython3",
   "version": "3.7.6"
  }
 },
 "nbformat": 4,
 "nbformat_minor": 4
}
