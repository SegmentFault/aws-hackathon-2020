{
 "cells": [
  {
   "cell_type": "code",
   "execution_count": 1,
   "metadata": {},
   "outputs": [],
   "source": [
    "from sklearn.svm import SVC\n",
    "import numpy as np\n",
    "import os\n",
    "import cv2\n",
    "from sklearn.model_selection import train_test_split\n"
   ]
  },
  {
   "cell_type": "code",
   "execution_count": 2,
   "metadata": {},
   "outputs": [],
   "source": [
    "# 加载数据\n",
    "def load_data():\n",
    "    names = os.listdir('./train_data')\n",
    "    #print(names)\n",
    "    names = [n for n in names if not n.startswith('.')]\n",
    "    X = []\n",
    "    y = np.asarray([i for i in range(len(names))]*6)\n",
    "    y.sort()\n",
    "    for name in names:\n",
    "        for i in range(1,7):\n",
    "            #print('./train_data/%s/%d.png'%(name,i))\n",
    "            gray = cv2.imread('./train_data/%s/%d.png'%(name,i))\n",
    "            gray = cv2.resize(gray, dsize=(256, 256)) # 尺寸统一标准\n",
    "            X.append(gray)\n",
    "    # 将列表变成了数组\n",
    "    return np.asarray(X),y,names"
   ]
  },
  {
   "cell_type": "code",
   "execution_count": 3,
   "metadata": {},
   "outputs": [
    {
     "name": "stdout",
     "output_type": "stream",
     "text": [
      "(18, 256, 256, 3)\n"
     ]
    }
   ],
   "source": [
    "# 加载数据\n",
    "X,y,names = load_data()\n",
    "print(X.shape)"
   ]
  },
  {
   "cell_type": "code",
   "execution_count": 6,
   "metadata": {},
   "outputs": [
    {
     "name": "stdout",
     "output_type": "stream",
     "text": [
      "--------------- (13, 256, 256, 3)\n",
      "--------------- (13,)\n"
     ]
    },
    {
     "name": "stderr",
     "output_type": "stream",
     "text": [
      "e:\\anaconda\\envs\\python37\\lib\\site-packages\\sklearn\\svm\\base.py:193: FutureWarning: The default value of gamma will change from 'auto' to 'scale' in version 0.22 to account better for unscaled features. Set gamma explicitly to 'auto' or 'scale' to avoid this warning.\n",
      "  \"avoid this warning.\", FutureWarning)\n"
     ]
    },
    {
     "data": {
      "text/plain": [
       "SVC(C=1.0, cache_size=200, class_weight=None, coef0=0.0,\n",
       "    decision_function_shape='ovr', degree=3, gamma='auto_deprecated',\n",
       "    kernel='rbf', max_iter=-1, probability=False, random_state=None,\n",
       "    shrinking=True, tol=0.001, verbose=False)"
      ]
     },
     "execution_count": 6,
     "metadata": {},
     "output_type": "execute_result"
    }
   ],
   "source": [
    "# 数据拆分\n",
    "X_train,X_test,y_train,y_test = train_test_split(X,y,random_state=512)\n",
    "\n",
    "# 声明SVM\n",
    "svc = SVC(kernel='rbf')\n",
    "\n",
    "# 训练\n",
    "print('---------------',X_train.shape)\n",
    "print('---------------',y_train.shape)\n",
    "X_train = X_train.reshape(13,-1)\n",
    "svc.fit(X_train,y_train)\n"
   ]
  },
  {
   "cell_type": "code",
   "execution_count": 5,
   "metadata": {},
   "outputs": [
    {
     "name": "stdout",
     "output_type": "stream",
     "text": [
      "(5, 256, 256, 3)\n",
      "喵脸验证，准确率： 0.6\n"
     ]
    }
   ],
   "source": [
    "# 预测\n",
    "print(X_test.shape)\n",
    "X_test = X_test.reshape(5,196608) # 倒着数，有多少填充多少\n",
    "score = svc.score(X_test,y_test)\n",
    "print('喵脸验证，准确率：',score)\n",
    "y_pred = svc.predict(X_test) # 预测值\n"
   ]
  },
  {
   "cell_type": "code",
   "execution_count": 12,
   "metadata": {},
   "outputs": [],
   "source": [
    "# 结果\n",
    "for face,y_ in zip(X_test,y_pred):\n",
    "    face = face.reshape(256, 256, 3)\n",
    "    label = names[y_]\n",
    "    cv2.putText(face,text = label,\n",
    "                org = (15,15),\n",
    "                fontFace=cv2.FONT_ITALIC,\n",
    "                fontScale=0.8,color=[255,0,0],thickness=1)\n",
    "    cv2.imshow('face',face)\n",
    "    key = cv2.waitKey(3000)\n",
    "    if key == ord('q'):\n",
    "        break\n",
    "cv2.destroyAllWindows()"
   ]
  },
  {
   "cell_type": "code",
   "execution_count": 14,
   "metadata": {},
   "outputs": [],
   "source": [
    "face = X_test[0].reshape(256, 256, 3)\n",
    "label = y_pred[0]\n",
    "\n",
    "cv2.imshow('face',face)"
   ]
  },
  {
   "cell_type": "code",
   "execution_count": null,
   "metadata": {},
   "outputs": [],
   "source": []
  }
 ],
 "metadata": {
  "kernelspec": {
   "display_name": "Python 3",
   "language": "python",
   "name": "python3"
  },
  "language_info": {
   "codemirror_mode": {
    "name": "ipython",
    "version": 3
   },
   "file_extension": ".py",
   "mimetype": "text/x-python",
   "name": "python",
   "nbconvert_exporter": "python",
   "pygments_lexer": "ipython3",
   "version": "3.7.6"
  }
 },
 "nbformat": 4,
 "nbformat_minor": 4
}
