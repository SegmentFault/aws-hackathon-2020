{
 "cells": [
  {
   "cell_type": "markdown",
   "metadata": {},
   "source": [
    "参考 https://aws.amazon.com/cn/blogs/machine-learning/deploy-trained-keras-or-tensorflow-models-using-amazon-sagemaker/"
   ]
  },
  {
   "cell_type": "code",
   "execution_count": 3,
   "metadata": {},
   "outputs": [
    {
     "name": "stdout",
     "output_type": "stream",
     "text": [
      "/home/ec2-user/SageMaker/code\n"
     ]
    }
   ],
   "source": [
    "cd code"
   ]
  },
  {
   "cell_type": "code",
   "execution_count": 5,
   "metadata": {},
   "outputs": [
    {
     "name": "stdout",
     "output_type": "stream",
     "text": [
      "INFO:tensorflow:No assets to save.\n",
      "INFO:tensorflow:No assets to write.\n",
      "INFO:tensorflow:SavedModel written to: export/Servo/1/saved_model.pb\n"
     ]
    }
   ],
   "source": [
    "from __future__ import absolute_import\n",
    "from __future__ import division\n",
    "from __future__ import print_function\n",
    "\n",
    "import tensorflow as tf\n",
    "\n",
    "import os\n",
    "import numpy as np\n",
    "import skimage as sk\n",
    "import skimage.io\n",
    "import matplotlib.pyplot as plt\n",
    "import tensorflow.keras.backend as K\n",
    "from online_training import *\n",
    "\n",
    "\n",
    "PATH        = '../data/dogfacenet/' \n",
    "PATH_SAVE   = '../output/history/'  \n",
    "PATH_MODEL  = './' \n",
    "SIZE        = (224,224,3)    \n",
    "TEST_SPLIT  = 0.1   \n",
    "\n",
    "LOAD_NET    = True \n",
    "NET_NAME    = '2019.05.12.dogfacenet' \n",
    "START_EPOCH = 7  \n",
    "NBOF_EPOCHS = 250 \n",
    "STEPS_PER_EPOCH = 300\n",
    "VALIDATION_STEPS = 30\n",
    "\n",
    "\n",
    "alpha = 0.3\n",
    "def triplet(y_true,y_pred):\n",
    "    \n",
    "    a = y_pred[0::3]\n",
    "    p = y_pred[1::3]\n",
    "    n = y_pred[2::3]\n",
    "    \n",
    "    ap = K.sum(K.square(a-p),-1)\n",
    "    an = K.sum(K.square(a-n),-1)\n",
    "\n",
    "    return K.sum(tf.nn.relu(ap - an + alpha))\n",
    "\n",
    "def triplet_acc(y_true,y_pred):\n",
    "    a = y_pred[0::3]\n",
    "    p = y_pred[1::3]\n",
    "    n = y_pred[2::3]\n",
    "    \n",
    "    ap = K.sum(K.square(a-p),-1)\n",
    "    an = K.sum(K.square(a-n),-1)\n",
    "    \n",
    "    return K.less(ap+alpha,an)\n",
    "\n",
    "with tf.Session() as sess: \n",
    "\n",
    "    model = tf.keras.models.load_model(\n",
    "        '{:s}{:s}.{:d}.h5'.format(PATH_MODEL,NET_NAME,START_EPOCH),\n",
    "        custom_objects={'triplet':triplet,'triplet_acc':triplet_acc})\n",
    "\n",
    "    from tensorflow.python.saved_model import builder\n",
    "    from tensorflow.python.saved_model.signature_def_utils import predict_signature_def\n",
    "    from tensorflow.python.saved_model import tag_constants\n",
    "    !rm -rf export\n",
    "    model_version = '1'\n",
    "    export_dir = 'export/Servo/' + model_version\n",
    "    builder = builder.SavedModelBuilder(export_dir)\n",
    "    signature = predict_signature_def(\n",
    "        inputs={\"inputs\": model.input}, outputs={\"score\": model.output})\n",
    "\n",
    "\n",
    "    builder.add_meta_graph_and_variables(\n",
    "        sess=sess, tags=[tag_constants.SERVING], signature_def_map={\"serving_default\": signature})\n",
    "    builder.save()\n"
   ]
  },
  {
   "cell_type": "code",
   "execution_count": 6,
   "metadata": {},
   "outputs": [
    {
     "name": "stdout",
     "output_type": "stream",
     "text": [
      "saved_model.pb  \u001b[0m\u001b[01;34mvariables\u001b[0m/\r\n"
     ]
    }
   ],
   "source": [
    "ls export/Servo/1"
   ]
  },
  {
   "cell_type": "code",
   "execution_count": 7,
   "metadata": {},
   "outputs": [],
   "source": [
    "import tarfile\n",
    "with tarfile.open('model.tar.gz', mode='w:gz') as archive:\n",
    "    archive.add('export', recursive=True)\n",
    "import sagemaker\n",
    "\n",
    "sagemaker_session = sagemaker.Session()\n",
    "inputs = sagemaker_session.upload_data(path='model.tar.gz', key_prefix='model')"
   ]
  },
  {
   "cell_type": "code",
   "execution_count": 28,
   "metadata": {},
   "outputs": [
    {
     "name": "stderr",
     "output_type": "stream",
     "text": [
      "Parameter image will be renamed to image_uri in SageMaker Python SDK v2.\n"
     ]
    }
   ],
   "source": [
    "!touch train.py\n",
    "import boto3, re\n",
    "from sagemaker import get_execution_role\n",
    "role = get_execution_role()\n",
    "from sagemaker.tensorflow.serving import Model\n",
    "sagemaker_model = Model(model_data = 's3://' + sagemaker_session.default_bucket() + '/model/model.tar.gz',\n",
    "                                  role = role,\n",
    "                                  framework_version='1.12.0',\n",
    "                                  entry_point = 'train.py')"
   ]
  },
  {
   "cell_type": "code",
   "execution_count": 29,
   "metadata": {},
   "outputs": [
    {
     "name": "stderr",
     "output_type": "stream",
     "text": [
      "'create_image_uri' will be deprecated in favor of 'ImageURIProvider' class in SageMaker Python SDK v2.\n"
     ]
    },
    {
     "name": "stdout",
     "output_type": "stream",
     "text": [
      "-------------!CPU times: user 5.69 s, sys: 626 ms, total: 6.31 s\n",
      "Wall time: 6min 39s\n"
     ]
    }
   ],
   "source": [
    "%%time\n",
    "predictor = sagemaker_model.deploy(initial_instance_count=1,\n",
    "                                   instance_type='ml.t2.medium')"
   ]
  },
  {
   "cell_type": "code",
   "execution_count": null,
   "metadata": {},
   "outputs": [],
   "source": []
  }
 ],
 "metadata": {
  "kernelspec": {
   "display_name": "conda_tensorflow_p36",
   "language": "python",
   "name": "conda_tensorflow_p36"
  },
  "language_info": {
   "codemirror_mode": {
    "name": "ipython",
    "version": 3
   },
   "file_extension": ".py",
   "mimetype": "text/x-python",
   "name": "python",
   "nbconvert_exporter": "python",
   "pygments_lexer": "ipython3",
   "version": "3.6.10"
  }
 },
 "nbformat": 4,
 "nbformat_minor": 4
}
