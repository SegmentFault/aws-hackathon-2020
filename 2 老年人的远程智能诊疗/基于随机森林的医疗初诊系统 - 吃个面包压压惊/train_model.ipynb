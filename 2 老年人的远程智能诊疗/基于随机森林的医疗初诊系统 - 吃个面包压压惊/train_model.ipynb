{
 "cells": [
  {
   "cell_type": "code",
   "execution_count": 16,
   "metadata": {
    "ExecuteTime": {
     "end_time": "2020-09-05T19:54:37.557663Z",
     "start_time": "2020-09-05T19:54:37.554666Z"
    }
   },
   "outputs": [],
   "source": [
    "import pandas as pd\n",
    "import numpy as np\n",
    "import pickle\n",
    "from translate import Translator\n",
    "import joblib"
   ]
  },
  {
   "cell_type": "markdown",
   "metadata": {},
   "source": [
    "# 读取数据"
   ]
  },
  {
   "cell_type": "markdown",
   "metadata": {},
   "source": [
    "## 读取训练数据"
   ]
  },
  {
   "cell_type": "code",
   "execution_count": 2,
   "metadata": {
    "ExecuteTime": {
     "end_time": "2020-09-05T19:50:50.840889Z",
     "start_time": "2020-09-05T19:50:50.780890Z"
    }
   },
   "outputs": [],
   "source": [
    "# 读取训练数据\n",
    "trainset = pd.read_csv('./Manual-Data/Training.csv')\n",
    "# 获取特征列\n",
    "x_train = np.array(trainset.iloc[:, :-1])\n",
    "# 获取target列\n",
    "y_train = list(trainset.iloc[:, -1])\n",
    "# 获取训练集中所有的疾病名称\n",
    "target_names = list(set(y_train))\n",
    "# 将疾病名称转换成索引作为类别\n",
    "y_train = np.array([target_names.index(x) for x in y_train])"
   ]
  },
  {
   "cell_type": "markdown",
   "metadata": {},
   "source": [
    "## 训练数据预处理"
   ]
  },
  {
   "cell_type": "code",
   "execution_count": 45,
   "metadata": {
    "ExecuteTime": {
     "end_time": "2020-09-05T01:58:54.953500Z",
     "start_time": "2020-09-05T01:56:49.795448Z"
    }
   },
   "outputs": [],
   "source": [
    "# 列名处理\n",
    "# 将属性列名中的英文下划线替换成空格\n",
    "feature_names = trainset.iloc[:, :-1].columns.str.replace('_', ' ')\n",
    "# 将英文属性翻译成中文属性\n",
    "translator = Translator(to_lang=\"chinese\")\n",
    "feature_names = list(map(lambda x: translator.translate(x), feature_names))"
   ]
  },
  {
   "cell_type": "markdown",
   "metadata": {},
   "source": [
    "## 读取测试数据"
   ]
  },
  {
   "cell_type": "code",
   "execution_count": 3,
   "metadata": {
    "ExecuteTime": {
     "end_time": "2020-09-05T19:50:59.055854Z",
     "start_time": "2020-09-05T19:50:59.037851Z"
    }
   },
   "outputs": [],
   "source": [
    "# 读取训练数据\n",
    "testset = pd.read_csv('./Manual-Data/Testing.csv')\n",
    "# 获取特征列\n",
    "x_test = np.array(testset.iloc[:, :-1])\n",
    "# 获取target列\n",
    "y_test = list(testset.iloc[:, -1])\n",
    "# 将疾病名称转换成索引作为类别\n",
    "y_test = np.array([target_names.index(x) for x in y_test])"
   ]
  },
  {
   "cell_type": "markdown",
   "metadata": {},
   "source": [
    "## 保存属性名和疾病名称列表"
   ]
  },
  {
   "cell_type": "code",
   "execution_count": 48,
   "metadata": {
    "ExecuteTime": {
     "end_time": "2020-09-05T02:03:39.777342Z",
     "start_time": "2020-09-05T02:03:39.773343Z"
    }
   },
   "outputs": [],
   "source": [
    "with open('feature_names.pkl', 'wb') as f:\n",
    "    pickle.dump(feature_names, f)\n",
    "\n",
    "with open('target_names.pkl', 'wb') as f:\n",
    "    pickle.dump(target_names, f)"
   ]
  },
  {
   "cell_type": "markdown",
   "metadata": {
    "ExecuteTime": {
     "end_time": "2020-09-05T02:04:42.227848Z",
     "start_time": "2020-09-05T02:04:42.223855Z"
    }
   },
   "source": [
    "# 训练模型"
   ]
  },
  {
   "cell_type": "markdown",
   "metadata": {},
   "source": [
    "## 随机森林"
   ]
  },
  {
   "cell_type": "code",
   "execution_count": 1,
   "metadata": {
    "ExecuteTime": {
     "end_time": "2020-09-07T01:41:42.515857Z",
     "start_time": "2020-09-07T01:41:40.391268Z"
    }
   },
   "outputs": [],
   "source": [
    "from sklearn.ensemble import RandomForestClassifier"
   ]
  },
  {
   "cell_type": "code",
   "execution_count": 9,
   "metadata": {
    "ExecuteTime": {
     "end_time": "2020-09-05T19:51:32.201131Z",
     "start_time": "2020-09-05T19:51:32.148099Z"
    }
   },
   "outputs": [
    {
     "data": {
      "text/plain": [
       "RandomForestClassifier(bootstrap=True, ccp_alpha=0.0, class_weight=None,\n",
       "                       criterion='gini', max_depth=None, max_features='auto',\n",
       "                       max_leaf_nodes=None, max_samples=None,\n",
       "                       min_impurity_decrease=0.0, min_impurity_split=None,\n",
       "                       min_samples_leaf=1, min_samples_split=2,\n",
       "                       min_weight_fraction_leaf=0.0, n_estimators=10,\n",
       "                       n_jobs=None, oob_score=False, random_state=0, verbose=0,\n",
       "                       warm_start=False)"
      ]
     },
     "execution_count": 9,
     "metadata": {},
     "output_type": "execute_result"
    }
   ],
   "source": [
    "rf = RandomForestClassifier(n_estimators=10, max_depth=None, min_samples_split=2, random_state=0)\n",
    "rf.fit(x_train, y_train)"
   ]
  },
  {
   "cell_type": "code",
   "execution_count": 10,
   "metadata": {
    "ExecuteTime": {
     "end_time": "2020-09-05T19:51:34.413798Z",
     "start_time": "2020-09-05T19:51:34.406798Z"
    }
   },
   "outputs": [
    {
     "data": {
      "text/plain": [
       "1.0"
      ]
     },
     "execution_count": 10,
     "metadata": {},
     "output_type": "execute_result"
    }
   ],
   "source": [
    "rf.score(x_test, y_test)"
   ]
  },
  {
   "cell_type": "code",
   "execution_count": 11,
   "metadata": {
    "ExecuteTime": {
     "end_time": "2020-09-05T19:51:35.615762Z",
     "start_time": "2020-09-05T19:51:35.377699Z"
    }
   },
   "outputs": [
    {
     "data": {
      "text/plain": [
       "array([1., 1., 1., 1., 1.])"
      ]
     },
     "execution_count": 11,
     "metadata": {},
     "output_type": "execute_result"
    }
   ],
   "source": [
    "cross_val_score(rf, x, y, cv=5)"
   ]
  },
  {
   "cell_type": "code",
   "execution_count": 18,
   "metadata": {
    "ExecuteTime": {
     "end_time": "2020-09-05T19:57:13.673661Z",
     "start_time": "2020-09-05T19:57:13.664672Z"
    }
   },
   "outputs": [
    {
     "data": {
      "text/plain": [
       "['saved_models/rf.pkl']"
      ]
     },
     "execution_count": 18,
     "metadata": {},
     "output_type": "execute_result"
    }
   ],
   "source": [
    "joblib.dump(rf, 'saved_models/rf.pkl')"
   ]
  }
 ],
 "metadata": {
  "kernelspec": {
   "display_name": "Python 3",
   "language": "python",
   "name": "python3"
  },
  "language_info": {
   "codemirror_mode": {
    "name": "ipython",
    "version": 3
   },
   "file_extension": ".py",
   "mimetype": "text/x-python",
   "name": "python",
   "nbconvert_exporter": "python",
   "pygments_lexer": "ipython3",
   "version": "3.7.6"
  },
  "toc": {
   "base_numbering": 1,
   "nav_menu": {},
   "number_sections": true,
   "sideBar": true,
   "skip_h1_title": false,
   "title_cell": "Table of Contents",
   "title_sidebar": "Contents",
   "toc_cell": false,
   "toc_position": {},
   "toc_section_display": true,
   "toc_window_display": false
  },
  "varInspector": {
   "cols": {
    "lenName": 16,
    "lenType": 16,
    "lenVar": 40
   },
   "kernels_config": {
    "python": {
     "delete_cmd_postfix": "",
     "delete_cmd_prefix": "del ",
     "library": "var_list.py",
     "varRefreshCmd": "print(var_dic_list())"
    },
    "r": {
     "delete_cmd_postfix": ") ",
     "delete_cmd_prefix": "rm(",
     "library": "var_list.r",
     "varRefreshCmd": "cat(var_dic_list()) "
    }
   },
   "types_to_exclude": [
    "module",
    "function",
    "builtin_function_or_method",
    "instance",
    "_Feature"
   ],
   "window_display": false
  }
 },
 "nbformat": 4,
 "nbformat_minor": 4
}
