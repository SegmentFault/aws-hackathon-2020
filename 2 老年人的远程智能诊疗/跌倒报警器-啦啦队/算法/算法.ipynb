{
 "cells": [
  {
   "cell_type": "code",
   "execution_count": 1,
   "metadata": {},
   "outputs": [],
   "source": [
    "import tensorflow as tf\n",
    "from tensorflow.keras import layers\n",
    "from sklearn.metrics import accuracy_score\n",
    "from sklearn.metrics import confusion_matrix\n",
    "\n",
    "BATCH_SIZE = 128\n",
    "\n",
    "model = tf.keras.Sequential()\n",
    "model.add(layers.Input(shape=(30, 9)))\n",
    "model.add(layers.LSTM(64, kernel_regularizer=tf.keras.regularizers.l2(0.0001)))\n",
    "model.add(layers.Dropout(0.5))\n",
    "model.add(layers.Dense(2, activation='softmax'))\n",
    "\n",
    "model.compile(loss='binary_crossentropy',\n",
    "              optimizer='rmsprop',\n",
    "              metrics=['accuracy'])\n"
   ]
  },
  {
   "cell_type": "code",
   "execution_count": 2,
   "metadata": {},
   "outputs": [
    {
     "name": "stdout",
     "output_type": "stream",
     "text": [
      "Model: \"sequential\"\n",
      "_________________________________________________________________\n",
      "Layer (type)                 Output Shape              Param #   \n",
      "=================================================================\n",
      "lstm (LSTM)                  (None, 64)                18944     \n",
      "_________________________________________________________________\n",
      "dropout (Dropout)            (None, 64)                0         \n",
      "_________________________________________________________________\n",
      "dense (Dense)                (None, 2)                 130       \n",
      "=================================================================\n",
      "Total params: 19,074\n",
      "Trainable params: 19,074\n",
      "Non-trainable params: 0\n",
      "_________________________________________________________________\n",
      "None\n"
     ]
    }
   ],
   "source": [
    "print(model.summary())"
   ]
  },
  {
   "cell_type": "code",
   "execution_count": 3,
   "metadata": {},
   "outputs": [],
   "source": [
    "def train(model, train_X, train_y):\n",
    "\n",
    "    dataset = tf.data.Dataset.from_tensor_slices((train_X, train_y))\n",
    "    dataset = dataset.shuffle(1000).batch(32).repeat()\n",
    "    steps_per_epoch = train_y.shape[0] // 32\n",
    "\n",
    "    model.fit(dataset, epochs=50, steps_per_epoch=steps_per_epoch)"
   ]
  },
  {
   "cell_type": "code",
   "execution_count": 4,
   "metadata": {},
   "outputs": [],
   "source": [
    "def test(model, test_X, test_y):\n",
    "    predictions = model.predict(test_X).squeeze()\n",
    "    labels = np.array(test_y).squeeze()\n",
    "    predictions = np.eye(2)[predictions.argmax(1)]\n",
    "    acc = accuracy_score(predictions, labels)\n",
    "    cm = confusion_matrix(predictions.argmax(1), labels.argmax(1))\n",
    "    print(acc)\n",
    "    print(cm)\n"
   ]
  },
  {
   "cell_type": "code",
   "execution_count": 5,
   "metadata": {},
   "outputs": [
    {
     "name": "stdout",
     "output_type": "stream",
     "text": [
      "(338, 30, 9)\n"
     ]
    }
   ],
   "source": [
    "import pickle\n",
    "with open('fall_down_data', 'rb') as fp:\n",
    "    X, Y = pickle.load(fp)\n",
    "print(X.shape)"
   ]
  },
  {
   "cell_type": "code",
   "execution_count": 6,
   "metadata": {
    "scrolled": true
   },
   "outputs": [
    {
     "name": "stdout",
     "output_type": "stream",
     "text": [
      "Train for 9 steps\n",
      "Epoch 1/50\n",
      "9/9 [==============================] - 3s 343ms/step - loss: 0.7006 - accuracy: 0.5660\n",
      "Epoch 2/50\n",
      "9/9 [==============================] - 0s 30ms/step - loss: 0.5021 - accuracy: 0.8088\n",
      "Epoch 3/50\n",
      "9/9 [==============================] - 0s 31ms/step - loss: 0.3324 - accuracy: 0.8713\n",
      "Epoch 4/50\n",
      "9/9 [==============================] - 0s 31ms/step - loss: 0.2254 - accuracy: 0.9191\n",
      "Epoch 5/50\n",
      "9/9 [==============================] - 0s 30ms/step - loss: 0.1736 - accuracy: 0.9338\n",
      "Epoch 6/50\n",
      "9/9 [==============================] - 0s 31ms/step - loss: 0.1841 - accuracy: 0.9265\n",
      "Epoch 7/50\n",
      "9/9 [==============================] - 0s 31ms/step - loss: 0.0920 - accuracy: 0.9485\n",
      "Epoch 8/50\n",
      "9/9 [==============================] - 0s 31ms/step - loss: 0.1080 - accuracy: 0.9449\n",
      "Epoch 9/50\n",
      "9/9 [==============================] - 0s 30ms/step - loss: 0.0769 - accuracy: 0.9596\n",
      "Epoch 10/50\n",
      "9/9 [==============================] - 0s 32ms/step - loss: 0.0688 - accuracy: 0.9743\n",
      "Epoch 11/50\n",
      "9/9 [==============================] - 0s 30ms/step - loss: 0.0674 - accuracy: 0.9688\n",
      "Epoch 12/50\n",
      "9/9 [==============================] - 0s 31ms/step - loss: 0.0581 - accuracy: 0.9743\n",
      "Epoch 13/50\n",
      "9/9 [==============================] - 0s 32ms/step - loss: 0.0550 - accuracy: 0.9706\n",
      "Epoch 14/50\n",
      "9/9 [==============================] - 0s 31ms/step - loss: 0.0594 - accuracy: 0.9632\n",
      "Epoch 15/50\n",
      "9/9 [==============================] - 0s 31ms/step - loss: 0.0426 - accuracy: 0.9853\n",
      "Epoch 16/50\n",
      "9/9 [==============================] - 0s 31ms/step - loss: 0.0356 - accuracy: 0.9816\n",
      "Epoch 17/50\n",
      "9/9 [==============================] - 0s 31ms/step - loss: 0.0418 - accuracy: 0.9853\n",
      "Epoch 18/50\n",
      "9/9 [==============================] - 0s 31ms/step - loss: 0.0642 - accuracy: 0.9779\n",
      "Epoch 19/50\n",
      "9/9 [==============================] - 0s 31ms/step - loss: 0.0344 - accuracy: 0.9853\n",
      "Epoch 20/50\n",
      "9/9 [==============================] - 0s 31ms/step - loss: 0.0418 - accuracy: 0.9816\n",
      "Epoch 21/50\n",
      "9/9 [==============================] - 0s 31ms/step - loss: 0.0412 - accuracy: 0.9861\n",
      "Epoch 22/50\n",
      "9/9 [==============================] - 0s 31ms/step - loss: 0.0288 - accuracy: 0.9853\n",
      "Epoch 23/50\n",
      "9/9 [==============================] - 0s 30ms/step - loss: 0.0247 - accuracy: 0.9890\n",
      "Epoch 24/50\n",
      "9/9 [==============================] - 0s 30ms/step - loss: 0.0422 - accuracy: 0.9816\n",
      "Epoch 25/50\n",
      "9/9 [==============================] - 0s 30ms/step - loss: 0.0225 - accuracy: 0.9890\n",
      "Epoch 26/50\n",
      "9/9 [==============================] - 0s 31ms/step - loss: 0.0330 - accuracy: 0.9890\n",
      "Epoch 27/50\n",
      "9/9 [==============================] - 0s 31ms/step - loss: 0.0377 - accuracy: 0.9816\n",
      "Epoch 28/50\n",
      "9/9 [==============================] - 0s 31ms/step - loss: 0.0226 - accuracy: 0.9890\n",
      "Epoch 29/50\n",
      "9/9 [==============================] - 0s 30ms/step - loss: 0.0266 - accuracy: 0.9890\n",
      "Epoch 30/50\n",
      "9/9 [==============================] - 0s 31ms/step - loss: 0.0460 - accuracy: 0.9816\n",
      "Epoch 31/50\n",
      "9/9 [==============================] - 0s 30ms/step - loss: 0.0261 - accuracy: 0.9896\n",
      "Epoch 32/50\n",
      "9/9 [==============================] - 0s 31ms/step - loss: 0.0389 - accuracy: 0.9853\n",
      "Epoch 33/50\n",
      "9/9 [==============================] - 0s 31ms/step - loss: 0.0432 - accuracy: 0.9853\n",
      "Epoch 34/50\n",
      "9/9 [==============================] - 0s 31ms/step - loss: 0.1257 - accuracy: 0.9853\n",
      "Epoch 35/50\n",
      "9/9 [==============================] - 0s 31ms/step - loss: 0.0431 - accuracy: 0.9890\n",
      "Epoch 36/50\n",
      "9/9 [==============================] - 0s 31ms/step - loss: 0.0391 - accuracy: 0.9853\n",
      "Epoch 37/50\n",
      "9/9 [==============================] - 0s 32ms/step - loss: 0.0740 - accuracy: 0.9743\n",
      "Epoch 38/50\n",
      "9/9 [==============================] - 0s 31ms/step - loss: 0.0256 - accuracy: 0.9926\n",
      "Epoch 39/50\n",
      "9/9 [==============================] - 0s 31ms/step - loss: 0.0169 - accuracy: 0.9926\n",
      "Epoch 40/50\n",
      "9/9 [==============================] - 0s 30ms/step - loss: 0.0208 - accuracy: 0.9890\n",
      "Epoch 41/50\n",
      "9/9 [==============================] - 0s 31ms/step - loss: 0.0506 - accuracy: 0.9861\n",
      "Epoch 42/50\n",
      "9/9 [==============================] - 0s 31ms/step - loss: 0.0900 - accuracy: 0.9816\n",
      "Epoch 43/50\n",
      "9/9 [==============================] - 0s 30ms/step - loss: 0.0132 - accuracy: 0.9926\n",
      "Epoch 44/50\n",
      "9/9 [==============================] - 0s 30ms/step - loss: 0.0314 - accuracy: 0.9890\n",
      "Epoch 45/50\n",
      "9/9 [==============================] - 0s 31ms/step - loss: 0.0165 - accuracy: 0.9963\n",
      "Epoch 46/50\n",
      "9/9 [==============================] - 0s 30ms/step - loss: 0.0075 - accuracy: 1.0000\n",
      "Epoch 47/50\n",
      "9/9 [==============================] - 0s 31ms/step - loss: 0.0225 - accuracy: 0.9890\n",
      "Epoch 48/50\n",
      "9/9 [==============================] - 0s 31ms/step - loss: 0.0191 - accuracy: 0.9853\n",
      "Epoch 49/50\n",
      "9/9 [==============================] - 0s 31ms/step - loss: 0.0248 - accuracy: 0.9890\n",
      "Epoch 50/50\n",
      "9/9 [==============================] - 0s 31ms/step - loss: 0.0221 - accuracy: 0.9890\n"
     ]
    }
   ],
   "source": [
    "from sklearn.model_selection import train_test_split\n",
    "train_X, test_X, train_y, test_y = train_test_split(X, Y, test_size=0.1)\n",
    "train(model, train_X, train_y)"
   ]
  },
  {
   "cell_type": "code",
   "execution_count": 7,
   "metadata": {},
   "outputs": [
    {
     "name": "stdout",
     "output_type": "stream",
     "text": [
      "0.9705882352941176\n",
      "[[10  1]\n",
      " [ 0 23]]\n"
     ]
    }
   ],
   "source": [
    "import numpy as np\n",
    "test(model, test_X, test_y)"
   ]
  },
  {
   "cell_type": "code",
   "execution_count": 8,
   "metadata": {},
   "outputs": [],
   "source": [
    "import os\n",
    "def save_model(model):\n",
    "    if not os.path.exists('model'):\n",
    "        os.mkdir('model')\n",
    "    model.save(os.path.join('model', 'mdoel.h5'))\n",
    "    converter = tf.lite.TFLiteConverter.from_keras_model(model)\n",
    "    converter.experimental_new_converter = True \n",
    "    tflite_model = converter.convert()\n",
    "    open(os.path.join('model', 'mdoel.tflite'), \"wb\").write(tflite_model)"
   ]
  },
  {
   "cell_type": "code",
   "execution_count": 9,
   "metadata": {},
   "outputs": [],
   "source": [
    "save_model(model)"
   ]
  }
 ],
 "metadata": {
  "kernelspec": {
   "display_name": "conda_tensorflow2_p36",
   "language": "python",
   "name": "conda_tensorflow2_p36"
  },
  "language_info": {
   "codemirror_mode": {
    "name": "ipython",
    "version": 3
   },
   "file_extension": ".py",
   "mimetype": "text/x-python",
   "name": "python",
   "nbconvert_exporter": "python",
   "pygments_lexer": "ipython3",
   "version": "3.6.10"
  }
 },
 "nbformat": 4,
 "nbformat_minor": 4
}
