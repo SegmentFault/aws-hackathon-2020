{
 "cells": [
  {
   "cell_type": "code",
   "execution_count": 1,
   "metadata": {
    "ExecuteTime": {
     "end_time": "2020-09-13T13:56:40.324016Z",
     "start_time": "2020-09-13T13:56:36.982915Z"
    }
   },
   "outputs": [],
   "source": [
    "import pandas as pd\n",
    "import matplotlib as mpl\n",
    "import seaborn as sns\n",
    "import numpy as np\n",
    "\n",
    "from sklearn.model_selection import train_test_split\n",
    "from sklearn.linear_model import LinearRegression\n",
    "from matplotlib import pyplot as plt"
   ]
  },
  {
   "cell_type": "code",
   "execution_count": null,
   "metadata": {},
   "outputs": [],
   "source": [
    "data_file = \"..\\PRSA2017_Data_20130301-20170228\\PRSA_Data_20130301-20170228\\simpleDataSet.csv\"\n",
    "def build_lr():\n",
    "    pd_data = pd.read_csv(data_file)\n",
    "\n",
    "    X = pd_data.loc[:, (\"PM10\", \"SO2\",\"NO2\",\"CO\",\"PRES\",\"DEWP\")]\n",
    "    y = pd_data.loc[:, \"PM2.5\"]\n",
    "    \n",
    "    #选择20%为测试集\n",
    "    X_train, X_test, y_train, y_test = train_test_split(X, y, test_size=0.2, random_state=532) \n",
    "\n",
    "    print('训练集测试及参数:')\n",
    "    print(f'X_train.shape={X_train.shape}\\ny_train.shape ={y_train.shape}\\nX_test.shape={X_test.shape}\\ny_test.shape={y_test.shape}')\n",
    "\n",
    "    linear_reg = LinearRegression()\n",
    "    model = linear_reg.fit(X_train, y_train)\n",
    "\n",
    "    print('模型参数')\n",
    "    print(model)\n",
    "\n",
    "    print('模型截距')\n",
    "    print(linear_reg.intercept_)\n",
    "\n",
    "    print('参数权重')\n",
    "    print(linear_reg.coef_)\n",
    "\n",
    "    y_pred = linear_reg.predict(X_test)\n",
    "    sum_mean = 0\n",
    "\n",
    "    for i in range(len(y_pred)):\n",
    "        sum_mean += (y_pred[i] - y_test.values[i]) ** 2\n",
    "\n",
    "    sum_erro = np.sqrt(sum_mean / len(y_pred))\n",
    "\n",
    "    print(sum_erro)\n",
    "\n",
    "    plt.figure()\n",
    "    plt.figure()\n",
    "    plt.plot(range(len(y_pred)), y_pred, 'b', label=\"predict\")\n",
    "    plt.plot(range(len(y_pred)), y_test, 'r', label=\"test\")\n",
    "    plt.legend(loc=\"upper right\")\n",
    "    plt.xlabel(\"the number of sales\")\n",
    "    plt.ylabel('value of sales')\n",
    "    plt.show()"
   ]
  }
 ],
 "metadata": {
  "kernelspec": {
   "display_name": "Python 3",
   "language": "python",
   "name": "python3"
  },
  "language_info": {
   "codemirror_mode": {
    "name": "ipython",
    "version": 3
   },
   "file_extension": ".py",
   "mimetype": "text/x-python",
   "name": "python",
   "nbconvert_exporter": "python",
   "pygments_lexer": "ipython3",
   "version": "3.7.6"
  },
  "toc": {
   "base_numbering": 1,
   "nav_menu": {},
   "number_sections": true,
   "sideBar": true,
   "skip_h1_title": false,
   "title_cell": "Table of Contents",
   "title_sidebar": "Contents",
   "toc_cell": false,
   "toc_position": {},
   "toc_section_display": true,
   "toc_window_display": false
  },
  "varInspector": {
   "cols": {
    "lenName": 16,
    "lenType": 16,
    "lenVar": 40
   },
   "kernels_config": {
    "python": {
     "delete_cmd_postfix": "",
     "delete_cmd_prefix": "del ",
     "library": "var_list.py",
     "varRefreshCmd": "print(var_dic_list())"
    },
    "r": {
     "delete_cmd_postfix": ") ",
     "delete_cmd_prefix": "rm(",
     "library": "var_list.r",
     "varRefreshCmd": "cat(var_dic_list()) "
    }
   },
   "types_to_exclude": [
    "module",
    "function",
    "builtin_function_or_method",
    "instance",
    "_Feature"
   ],
   "window_display": false
  }
 },
 "nbformat": 4,
 "nbformat_minor": 4
}
