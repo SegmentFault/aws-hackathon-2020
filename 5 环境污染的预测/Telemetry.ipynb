{
 "cells": [
  {
   "cell_type": "code",
   "execution_count": 5,
   "metadata": {},
   "outputs": [],
   "source": [
    "import pandas as pd\n",
    "ori_data = pd.read_csv('./telemetry/iot_telemetry_data.csv',sep = ',')"
   ]
  },
  {
   "cell_type": "code",
   "execution_count": 13,
   "metadata": {},
   "outputs": [],
   "source": [
    "def device_map(device):\n",
    "    if(device == 'b8:27:eb:bf:9d:51'): return 0\n",
    "    elif(device == '00:0f:00:70:91:0a'): return 1\n",
    "    else: return 2\n",
    "def light_map(light):\n",
    "    if(light == False): return 0\n",
    "    else: return 1\n",
    "\n",
    "def motion_map(motion):\n",
    "    if(motion == False): return 0\n",
    "    else: return 1"
   ]
  },
  {
   "cell_type": "code",
   "execution_count": 7,
   "metadata": {},
   "outputs": [],
   "source": [
    "data = ori_data.copy()\n",
    "data['device_mp'] =ori_data.apply(lambda x: device_map(x.device), axis = 1)\n",
    "data['light_mp'] =ori_data.apply(lambda x: light_map(x.light), axis = 1)\n",
    "data['motion_mp'] =ori_data.apply(lambda x: motion_map(x.motion), axis = 1)\n",
    "data = data.drop(['device','light','motion'], axis = 1)"
   ]
  },
  {
   "cell_type": "code",
   "execution_count": 74,
   "metadata": {},
   "outputs": [],
   "source": [
    "co_min = data['co'].min()\n",
    "co_max = data['co'].max()\n",
    "co_avg = data['co'].mean()\n",
    "co_med = data['co'].median()\n",
    "co_all = float(data['co'].mode())"
   ]
  },
  {
   "cell_type": "code",
   "execution_count": 75,
   "metadata": {},
   "outputs": [],
   "source": [
    "box = [0,co_all,co_avg,co_med,co_max]"
   ]
  },
  {
   "cell_type": "code",
   "execution_count": 76,
   "metadata": {},
   "outputs": [],
   "source": [
    "cut = pd.cut(data['co'],box)\n",
    "co_lb = cut.values.codes\n",
    "data['co_label'] = co_lb"
   ]
  },
  {
   "cell_type": "code",
   "execution_count": 102,
   "metadata": {},
   "outputs": [],
   "source": [
    "import tensorflow as tf\n",
    "from keras.layers import *\n",
    "from keras.losses import *\n",
    "from keras.optimizers import *\n",
    "from keras.models import *\n",
    "from keras.callbacks import *\n",
    "from keras.initializers import he_uniform, glorot_uniform, lecun_uniform\n",
    "from keras.utils import to_categorical\n",
    "from keras import backend as K\n",
    "from keras import *\n",
    "from keras.activations import *\n",
    "from keras.utils import plot_model, multi_gpu_model, model_to_dot\n",
    "from IPython.display import SVG\n",
    "from keras_tqdm import TQDMNotebookCallback, TQDMCallback\n",
    "\n",
    "from sklearn.model_selection import train_test_split\n",
    "# from thundersvm import SVC, NuSVC\n",
    "from sklearn.linear_model import LogisticRegression\n",
    "from sklearn.model_selection import cross_validate, cross_val_predict, StratifiedKFold\n",
    "import bhtsne\n",
    "from scipy.spatial.distance import pdist\n",
    "from itertools import *\n",
    "from joblib import Parallel, delayed\n",
    "import matplotlib.pyplot as plt\n",
    "from sklearn.manifold import TSNE\n",
    "from IPython.display import display\n",
    "from scipy import sparse as sp\n",
    "import scipy\n",
    "from sklearn.metrics import *\n",
    "from sklearn.preprocessing import *\n",
    "from tqdm import tqdm, tqdm_pandas, tqdm_notebook, tqdm_gui\n",
    "import os\n",
    "import time\n",
    "import random\n",
    "import math\n",
    "import igraph as ig\n",
    "import networkx as nx\n",
    "import pandas as pd\n",
    "import numpy as np\n",
    "import warnings\n",
    "warnings.filterwarnings(\"ignore\")\n",
    "\n",
    "\n",
    "%matplotlib inline\n"
   ]
  },
  {
   "cell_type": "code",
   "execution_count": 103,
   "metadata": {},
   "outputs": [
    {
     "data": {
      "application/vnd.jupyter.widget-view+json": {
       "model_id": "b7f12d0174b44ff6a784215003e2ea63",
       "version_major": 2,
       "version_minor": 0
      },
      "text/plain": [
       "HBox(children=(FloatProgress(value=0.0, max=24.0), HTML(value='')))"
      ]
     },
     "metadata": {},
     "output_type": "display_data"
    },
    {
     "name": "stdout",
     "output_type": "stream",
     "text": [
      "\n",
      "NMI 0.02967991782461792 \n",
      "ARS 0.013002882455742975\n",
      "ACC 0.3092348167746012\n"
     ]
    }
   ],
   "source": [
    "from sklearn.cluster import KMeans,AgglomerativeClustering\n",
    "from sklearn.metrics import normalized_mutual_info_score,adjusted_rand_score\n",
    "num_classes = data['co_label'].map(lambda a:a).nunique()\n",
    "label = data['co_label']\n",
    "\n",
    "cluster_emb = data.copy()\n",
    "cluster_emb['tab'] = range(len(cluster_emb))\n",
    "# cluster_emb = cluster_emb.merge(label,how='left',on='nodes')\n",
    "cluster_label = cluster_emb[['tab','co_label']]\n",
    "cluster_emb = cluster_emb.sort_values(by=['tab']).drop(['tab','co_label'],axis=1).values\n",
    "clf = KMeans(n_clusters=num_classes,n_init=20,n_jobs=-1,)\n",
    "clf.fit(cluster_emb)\n",
    "cluster_label['pred'] = clf.labels_\n",
    "\n",
    "ori_label = list(range(num_classes))\n",
    "max_score = {\n",
    "    'acc' : [],\n",
    "    'nmi' : [],\n",
    "    'ars' : [],\n",
    "}\n",
    "\n",
    "def calc_cluster(i):\n",
    "    dic = pd.DataFrame()\n",
    "    dic['pred'] = ori_label\n",
    "    dic['label'] = i\n",
    "    dic = dict(dic.values)\n",
    "    now = cluster_label['pred'].replace(dic).values\n",
    "    return accuracy_score(lb,now), normalized_mutual_info_score(lb,now), adjusted_rand_score(lb,now)\n",
    "\n",
    "p = [i for i in list(permutations(ori_label)) if i not in [ori_label]] \n",
    "lb = cluster_label['co_label'].values\n",
    "res = Parallel(n_jobs=10,backend='loky',batch_size=256)(delayed(calc_cluster)(x) for x in tqdm_notebook(p))\n",
    "for r in res:\n",
    "    max_score['acc'].append(r[0])\n",
    "    max_score['nmi'].append(r[1])\n",
    "    max_score['ars'].append(r[2])\n",
    "    \n",
    "print(\"NMI {} \\nARS {}\\nACC {}\".format(np.max(max_score['nmi']),\n",
    "                                       np.max(max_score['ars']),\n",
    "                                       np.max(max_score['acc'])))\n"
   ]
  }
 ],
 "metadata": {
  "kernelspec": {
   "display_name": "Python 3",
   "language": "python",
   "name": "python3"
  },
  "language_info": {
   "codemirror_mode": {
    "name": "ipython",
    "version": 3
   },
   "file_extension": ".py",
   "mimetype": "text/x-python",
   "name": "python",
   "nbconvert_exporter": "python",
   "pygments_lexer": "ipython3",
   "version": "3.6.9"
  }
 },
 "nbformat": 4,
 "nbformat_minor": 4
}
