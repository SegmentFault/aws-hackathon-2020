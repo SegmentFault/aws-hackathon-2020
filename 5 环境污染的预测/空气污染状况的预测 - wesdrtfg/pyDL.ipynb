{
 "metadata": {
  "language_info": {
   "codemirror_mode": {
    "name": "ipython",
    "version": 3
   },
   "file_extension": ".py",
   "mimetype": "text/x-python",
   "name": "python",
   "nbconvert_exporter": "python",
   "pygments_lexer": "ipython3",
   "version": "3.8.3-final"
  },
  "orig_nbformat": 2,
  "kernelspec": {
   "name": "python3",
   "display_name": "Python 3"
  }
 },
 "nbformat": 4,
 "nbformat_minor": 2,
 "cells": [
  {
   "cell_type": "markdown",
   "metadata": {},
   "source": [
    "# 使用 sklearn 预测空气污染状况"
   ]
  },
  {
   "cell_type": "markdown",
   "metadata": {},
   "source": [
    "空气污染状况愈发严重，这种情况需要公众的重视。本项目使用 sklearn 的线性回归模型预测城市空气污染状况。"
   ]
  },
  {
   "cell_type": "markdown",
   "metadata": {},
   "source": [
    "在这里选择北京市的空气质量数据和全国的天气气象数据。这里选取与空气质量有关的四个参数：每小时的空气温度，露点温度，风向角度，风速。"
   ]
  },
  {
   "cell_type": "markdown",
   "metadata": {},
   "source": [
    "首先要对离散的数据进行聚合："
   ]
  },
  {
   "cell_type": "markdown",
   "metadata": {},
   "source": [
    "导入库："
   ]
  },
  {
   "cell_type": "code",
   "execution_count": 47,
   "metadata": {},
   "outputs": [],
   "source": [
    "import os\n",
    "from types import *\n",
    "from typing import *\n",
    "import re\n",
    "import json\n",
    "\n",
    "data: Dict[str, Any] = dict()"
   ]
  },
  {
   "cell_type": "markdown",
   "metadata": {},
   "source": [
    "对北京市的空气质量数据进行收集："
   ]
  },
  {
   "cell_type": "code",
   "execution_count": 48,
   "metadata": {},
   "outputs": [],
   "source": [
    "for fn in os.listdir(\"beijingAir\"):\n",
    "    f = open('beijingAir/' + fn, encoding='utf8')\n",
    "    #f = open('beijingAir/beijing_all_20140503.csv', encoding='utf8')\n",
    "    day: Dict[str, List[Tuple[str, float]]] = dict()\n",
    "    for d in f.readlines()[1:]:\n",
    "        row = d.split(',')\n",
    "        if len(row) < 4 or row[2].find('h') != -1:\n",
    "            continue\n",
    "        time = row[0] + row[1]\n",
    "        num = 0.0\n",
    "        try:\n",
    "            num = float(row[3])\n",
    "        except:\n",
    "            continue\n",
    "        if time not in day:\n",
    "            day[time] = list()\n",
    "        day[time].append((row[2], num))\n",
    "    \n",
    "    for time in day:\n",
    "        d = dict()\n",
    "        d['time'] = time\n",
    "        for i in day[time]:\n",
    "            d[i[0]] = i[1]\n",
    "        data[time] = d"
   ]
  },
  {
   "cell_type": "markdown",
   "metadata": {},
   "source": [
    "对全国天气数据进行收集："
   ]
  },
  {
   "cell_type": "code",
   "execution_count": 49,
   "metadata": {},
   "outputs": [],
   "source": [
    "for d in os.listdir('global/'):\n",
    "    for dd in os.listdir('global/' + d):\n",
    "        for fn in os.listdir('global/' + d + '/' + dd):    \n",
    "            if fn.find('545110') == -1:\n",
    "                continue\n",
    "            f = open('global/' + d + '/' + dd +  '/' + fn)\n",
    "            rows = f.readlines()\n",
    "            for r in rows:\n",
    "                col = re.split('\\s+', r)\n",
    "                if len(col) < 9:\n",
    "                    continue\n",
    "                if col[4] == '-9999' or col[5] == '-9999' or col[7] == '-9999' or col[8] == '-9999':\n",
    "                    continue\n",
    "                time = col[0] + col[1] + col[2] + col[3]\n",
    "                if time not in data:\n",
    "                    continue\n",
    "                Atemp: float\n",
    "                Dtemp: float\n",
    "                windA: float\n",
    "                windR: float\n",
    "                try:\n",
    "                    Atemp = float(col[4])\n",
    "                    Dtemp = float(col[5])\n",
    "                    windA = float(col[7])\n",
    "                    windR = float(col[8])\n",
    "                except:\n",
    "                    continue\n",
    "                data[time]['Atemp'] = Atemp / 10.0\n",
    "                data[time]['Dtemp'] = Dtemp / 10.0\n",
    "                data[time]['windA'] = windA / 10.0\n",
    "                data[time]['windR'] = windR / 10.0"
   ]
  },
  {
   "cell_type": "markdown",
   "metadata": {},
   "source": [
    "删除残缺的数据："
   ]
  },
  {
   "cell_type": "code",
   "execution_count": 50,
   "metadata": {},
   "outputs": [],
   "source": [
    "delLst = []\n",
    "for k in data:\n",
    "    if len(data[k]) != 8:\n",
    "        delLst.append(k)\n",
    "\n",
    "for i in delLst:\n",
    "    data.pop(i)\n"
   ]
  },
  {
   "cell_type": "markdown",
   "metadata": {},
   "source": [
    "以json格式输出："
   ]
  },
  {
   "cell_type": "code",
   "execution_count": 51,
   "metadata": {},
   "outputs": [],
   "source": [
    "data = json.dumps(data)\n",
    "ff = open('data.json', 'w')\n",
    "ff.write(data)\n",
    "ff.close()"
   ]
  },
  {
   "cell_type": "markdown",
   "metadata": {},
   "source": [
    "接下来进行建模："
   ]
  },
  {
   "cell_type": "markdown",
   "metadata": {},
   "source": [
    "导入库："
   ]
  },
  {
   "cell_type": "code",
   "execution_count": 52,
   "metadata": {},
   "outputs": [],
   "source": [
    "from sklearn import linear_model\n",
    "from sklearn.model_selection import train_test_split\n",
    "import numpy as np\n",
    "from typing import *\n",
    "import json\n",
    "import numpy as np\n",
    "import matplotlib.pyplot as plt\n",
    "\n",
    "data = dict()\n",
    "lst = [([],[]), ([],[]), ([], [])]\n",
    "x_key = ['PM2.5', 'PM10', 'AQI']"
   ]
  },
  {
   "cell_type": "markdown",
   "metadata": {},
   "source": [
    "打开json文件并读取处理："
   ]
  },
  {
   "cell_type": "code",
   "execution_count": 53,
   "metadata": {},
   "outputs": [],
   "source": [
    "with open('data.json') as f:\n",
    "    data = json.load(f)\n",
    "    for k in data:\n",
    "        y = []\n",
    "        for name in data[k]:\n",
    "            if name == 'time':\n",
    "                continue\n",
    "            try:\n",
    "                i = x_key.index(name)\n",
    "            except:\n",
    "                i = -1\n",
    "            \n",
    "            if i != -1:\n",
    "                lst[i][0].append(data[k][name])\n",
    "            else:\n",
    "                y.append(data[k][name])\n",
    "        for i in range(0, 3):\n",
    "            lst[i][1].append(y)\n"
   ]
  },
  {
   "cell_type": "markdown",
   "metadata": {},
   "source": [
    "转化为numpy数组："
   ]
  },
  {
   "cell_type": "code",
   "execution_count": 54,
   "metadata": {
    "tags": []
   },
   "outputs": [
    {
     "output_type": "stream",
     "name": "stdout",
     "text": "(20087, 4)\n(20087,)\n"
    }
   ],
   "source": [
    "X, y = np.array(lst[0][1]), np.array(lst[0][0])\n",
    "print(X.shape)\n",
    "print(y.shape)"
   ]
  },
  {
   "cell_type": "markdown",
   "metadata": {},
   "source": [
    "将 20% 的 数据用于测试，其余用于训练："
   ]
  },
  {
   "cell_type": "code",
   "execution_count": 55,
   "metadata": {},
   "outputs": [],
   "source": [
    "X_train, X_test, y_train, y_test = train_test_split(X, y, test_size=0.2, random_state=532)"
   ]
  },
  {
   "cell_type": "markdown",
   "metadata": {},
   "source": [
    "开始进行模型训练："
   ]
  },
  {
   "cell_type": "code",
   "execution_count": 56,
   "metadata": {},
   "outputs": [],
   "source": [
    "linreg = linear_model.LinearRegression()\n",
    "#训练\n",
    "model = linreg.fit(X_train, y_train)"
   ]
  },
  {
   "cell_type": "markdown",
   "metadata": {},
   "source": [
    "生成拟合的公式："
   ]
  },
  {
   "cell_type": "code",
   "execution_count": 57,
   "metadata": {},
   "outputs": [],
   "source": [
    "def generate_formula(coef, intercept):\n",
    "    def f(Atemp: float, Dtemp: float, windA: float, windR: float):\n",
    "        return intercept + Atemp * coef[0] + Dtemp * coef[1] + windA * coef[2] + windR + coef[3]\n",
    "    return f\n",
    "\n",
    "f = generate_formula(linreg.coef_, linreg.intercept_)"
   ]
  },
  {
   "cell_type": "markdown",
   "metadata": {},
   "source": [
    "测试公式："
   ]
  },
  {
   "cell_type": "code",
   "execution_count": 58,
   "metadata": {
    "tags": []
   },
   "outputs": [
    {
     "output_type": "stream",
     "name": "stdout",
     "text": "87.70874291738609\n"
    }
   ],
   "source": [
    "print(f(20, 18, 40, 20))"
   ]
  }
 ]
}